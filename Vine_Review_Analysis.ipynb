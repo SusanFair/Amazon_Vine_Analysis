{
  "nbformat": 4,
  "nbformat_minor": 0,
  "metadata": {
    "colab": {
      "provenance": []
    },
    "kernelspec": {
      "name": "python3",
      "display_name": "Python 3"
    },
    "language_info": {
      "name": "python"
    }
  },
  "cells": [
    {
      "cell_type": "code",
      "execution_count": 1,
      "metadata": {
        "colab": {
          "base_uri": "https://localhost:8080/"
        },
        "id": "m5k3M13h_6bO",
        "outputId": "eba3a792-22c6-4d26-d06d-4751e8d9a7ed"
      },
      "outputs": [
        {
          "output_type": "stream",
          "name": "stdout",
          "text": [
            "Get:1 https://cloud.r-project.org/bin/linux/ubuntu focal-cran40/ InRelease [3,622 B]\n",
            "Hit:2 http://archive.ubuntu.com/ubuntu focal InRelease\n",
            "Hit:3 http://security.ubuntu.com/ubuntu focal-security InRelease\n",
            "Hit:4 http://archive.ubuntu.com/ubuntu focal-updates InRelease\n",
            "Hit:5 https://developer.download.nvidia.com/compute/cuda/repos/ubuntu2004/x86_64  InRelease\n",
            "Hit:6 http://ppa.launchpad.net/c2d4u.team/c2d4u4.0+/ubuntu focal InRelease\n",
            "Get:7 http://archive.ubuntu.com/ubuntu focal-backports InRelease [108 kB]\n",
            "Hit:8 http://ppa.launchpad.net/cran/libgit2/ubuntu focal InRelease\n",
            "Hit:9 http://ppa.launchpad.net/deadsnakes/ppa/ubuntu focal InRelease\n",
            "Hit:10 http://ppa.launchpad.net/graphics-drivers/ppa/ubuntu focal InRelease\n",
            "Hit:11 http://ppa.launchpad.net/ubuntugis/ppa/ubuntu focal InRelease\n",
            "Fetched 112 kB in 3s (43.0 kB/s)\n",
            "Reading package lists... Done\n"
          ]
        }
      ],
      "source": [
        "import os\n",
        "# Find the latest version of spark 3.2 from http://www.apache.org/dist/spark/ and enter as the spark version\n",
        "# For example:\n",
        "# spark_version = 'spark-3.2.3'\n",
        "spark_version = 'spark-3.3.2'\n",
        "os.environ['SPARK_VERSION']=spark_version\n",
        "\n",
        "# Install Spark and Java\n",
        "!apt-get update\n",
        "!apt-get install openjdk-11-jdk-headless -qq > /dev/null\n",
        "!wget -q http://www.apache.org/dist/spark/$SPARK_VERSION/$SPARK_VERSION-bin-hadoop3.tgz\n",
        "!tar xf $SPARK_VERSION-bin-hadoop3.tgz\n",
        "!pip install -q findspark\n",
        "\n",
        "# Set Environment Variables\n",
        "import os\n",
        "os.environ[\"JAVA_HOME\"] = \"/usr/lib/jvm/java-11-openjdk-amd64\"\n",
        "os.environ[\"SPARK_HOME\"] = f\"/content/{spark_version}-bin-hadoop3\"\n",
        "\n",
        "# Start a SparkSession\n",
        "import findspark\n",
        "findspark.init()"
      ]
    },
    {
      "cell_type": "code",
      "source": [
        "# Download the Postgres driver that will allow Spark to interact with Postgres.\n",
        "!wget https://jdbc.postgresql.org/download/postgresql-42.2.16.jar"
      ],
      "metadata": {
        "colab": {
          "base_uri": "https://localhost:8080/"
        },
        "id": "rtsCJsj6AM16",
        "outputId": "a71c52b1-9ddc-4651-c2eb-73fb6fef7494"
      },
      "execution_count": 2,
      "outputs": [
        {
          "output_type": "stream",
          "name": "stdout",
          "text": [
            "--2023-04-03 17:18:56--  https://jdbc.postgresql.org/download/postgresql-42.2.16.jar\n",
            "Resolving jdbc.postgresql.org (jdbc.postgresql.org)... 72.32.157.228, 2001:4800:3e1:1::228\n",
            "Connecting to jdbc.postgresql.org (jdbc.postgresql.org)|72.32.157.228|:443... connected.\n",
            "HTTP request sent, awaiting response... 200 OK\n",
            "Length: 1002883 (979K) [application/java-archive]\n",
            "Saving to: ‘postgresql-42.2.16.jar.2’\n",
            "\n",
            "postgresql-42.2.16. 100%[===================>] 979.38K  1.17MB/s    in 0.8s    \n",
            "\n",
            "2023-04-03 17:18:58 (1.17 MB/s) - ‘postgresql-42.2.16.jar.2’ saved [1002883/1002883]\n",
            "\n"
          ]
        }
      ]
    },
    {
      "cell_type": "code",
      "source": [
        "from pyspark.sql import SparkSession\n",
        "spark = SparkSession.builder.appName(\"M17-Amazon-Challenge\").config(\"spark.driver.extraClassPath\",\"/content/postgresql-42.2.16.jar\").getOrCreate()"
      ],
      "metadata": {
        "id": "knckNITvAR-Z"
      },
      "execution_count": 5,
      "outputs": []
    },
    {
      "cell_type": "code",
      "source": [
        "from pyspark import SparkFiles\n",
        "# First attempt but all Vine data in 'N'\n",
        "#url = \"https://s3.amazonaws.com/amazon-reviews-pds/tsv/amazon_reviews_us_Gift_Card_v1_00.tsv.gz\"\n",
        "url = \"https://s3.amazonaws.com/amazon-reviews-pds/tsv/amazon_reviews_us_Camera_v1_00.tsv.gz\"\n",
        "\n",
        "spark.sparkContext.addFile(url)\n",
        "df = spark.read.option(\"encoding\", \"UTF-8\").csv(SparkFiles.get(\"\"), sep=\"\\t\", header=True, inferSchema=True)\n",
        "df.show()"
      ],
      "metadata": {
        "colab": {
          "base_uri": "https://localhost:8080/"
        },
        "id": "46y1MWJDAVam",
        "outputId": "5181d554-0c45-4674-c025-a3ccc8ae0f28"
      },
      "execution_count": 6,
      "outputs": [
        {
          "output_type": "stream",
          "name": "stdout",
          "text": [
            "+-----------+-----------+--------------+----------+--------------+--------------------+----------------+-----------+-------------+-----------+----+-----------------+--------------------+--------------------+-------------------+\n",
            "|marketplace|customer_id|     review_id|product_id|product_parent|       product_title|product_category|star_rating|helpful_votes|total_votes|vine|verified_purchase|     review_headline|         review_body|        review_date|\n",
            "+-----------+-----------+--------------+----------+--------------+--------------------+----------------+-----------+-------------+-----------+----+-----------------+--------------------+--------------------+-------------------+\n",
            "|         US|    2975964|R1NBG94582SJE2|B00I01JQJM|     860486164|GoPro Rechargeabl...|          Camera|          5|            0|          0|   N|                Y|          Five Stars|                  ok|2015-08-31 00:00:00|\n",
            "|         US|   23526356|R273DCA6Y0H9V7|B00TCO0ZAA|     292641483|Professional 58mm...|          Camera|          5|            0|          0|   N|                Y|          Love it!!!|Perfect, even stu...|2015-08-31 00:00:00|\n",
            "|         US|   52764145| RQVOXO7WUOFK6|B00B7733E0|      75825744|Spy Tec Z12 Motio...|          Camera|          2|            1|          1|   N|                Y|Another Motion De...|If the words, &#3...|2015-08-31 00:00:00|\n",
            "|         US|   47348933|R1KWKSF21PO6HO|B006ZN4U34|     789352955|Celestron UpClose...|          Camera|          5|            0|          0|   N|                Y|Exactly what I wa...|Exactly what I wa...|2015-08-31 00:00:00|\n",
            "|         US|   33680700|R38H3UO1J190GI|B00HUEBGMU|      19067902|Vidpro XM-L Wired...|          Camera|          5|            1|          1|   N|                Y|Good mic at a Goo...|I will look past ...|2015-08-31 00:00:00|\n",
            "|         US|   30301059|R3NPIFKLR19NQA|B008MW6Y12|     597683407|NIX 8 inch Hi-Res...|          Camera|          3|            0|          0|   N|                Y|The controls are ...|The controls are ...|2015-08-31 00:00:00|\n",
            "|         US|   28282645|R3MBE6UCH3435E|B00TE8XKIS|      35563334|Polaroid ZIP Mobi...|          Camera|          3|            8|          8|   N|                N|Fun toy for makin...|The printer came ...|2015-08-31 00:00:00|\n",
            "|         US|     502818|R2E7A4FF0PVY5Q|B00ZKDUFBQ|     555190742|GeekPro 2.0-Inch ...|          Camera|          5|            0|          1|   N|                Y|          Five Stars|Great camera for ...|2015-08-31 00:00:00|\n",
            "|         US|    1481233| R3R8JDQ2BF4NM|B010BZ7S2Q|     129544315|Sony HDR-AZ1VR Ac...|          Camera|          5|            0|          2|   N|                Y|          Five Stars|Product is very g...|2015-08-31 00:00:00|\n",
            "|         US|   27885926|R1YND4BS823GN5|B00HRXSSRA|     708418657|ChiliPower DMW-BL...|          Camera|          1|            0|          0|   N|                Y|              Sucky.|Lasted a few hour...|2015-08-31 00:00:00|\n",
            "|         US|    3183883|R2TZNSA18V7YF6|B005C95NM4|     246957815|Zeikos Deluxe Fla...|          Camera|          4|            1|          1|   N|                Y|Hand Hold Bracket...|I needed the flas...|2015-08-31 00:00:00|\n",
            "|         US|   23208852|R22ZVRDPPXIDNL|B00LBIBYBE|     746593019|  GoPro Hero Filters|          Camera|          5|            0|          0|   N|                Y|          Five Stars|Use these all the...|2015-08-31 00:00:00|\n",
            "|         US|   11438825|R1F4O6WOO2W461|B00X3HIM2U|     444991975|Neewer Meike MK-X...|          Camera|          3|            3|          3|   N|                Y|Can't grip the ba...|Same issue as oth...|2015-08-31 00:00:00|\n",
            "|         US|   50399582| RT1KLS3QSJNUT|B00KDVQF8W|     304104050|LB Photography Ba...|          Camera|          5|            4|          4|   N|                Y|Super pleased wit...|Super pleased wit...|2015-08-31 00:00:00|\n",
            "|         US|   36700181|R222VYJL5K5IRS|B00GUZEZL4|     472875794|Waterproof Camera...|          Camera|          5|            0|          0|   N|                Y|    Excellent value!|These float wrist...|2015-08-31 00:00:00|\n",
            "|         US|   47818374|R31LUR7M4PQOLU|B00FB1TBKS|     710827451|Ecolink Z-Wave PI...|          Camera|          5|            0|          0|   N|                Y|       great product|very good on batt...|2015-08-31 00:00:00|\n",
            "|         US|   35272750|R1OD3T3Q042LUQ|B00GVMLPT6|     269896170|FotoTech Male to ...|          Camera|          2|            0|          0|   N|                Y|           Two Stars|im not happy, the...|2015-08-31 00:00:00|\n",
            "|         US|   11736306|R2QT68OZTT2YKE|B00L8827BI|     145946775|Nikon D3200 Ultim...|          Camera|          5|            0|          0|   N|                Y|          Five Stars|It is a very good...|2015-08-31 00:00:00|\n",
            "|         US|   52377008| RMFQF59FG3TD1|B00SIM78R0|     972011051|D-Link Wireless D...|          Camera|          4|            0|          0|   N|                Y|Nice camera, not ...|Nice camera for t...|2015-08-31 00:00:00|\n",
            "|         US|    6465510|R1QNYFW6G31R5T|B00EDCZKJ2|     258297575|ZINK Phone Photo ...|          Camera|          1|            1|          3|   N|                N|        Never Agian.|If I could leave ...|2015-08-31 00:00:00|\n",
            "+-----------+-----------+--------------+----------+--------------+--------------------+----------------+-----------+-------------+-----------+----+-----------------+--------------------+--------------------+-------------------+\n",
            "only showing top 20 rows\n",
            "\n"
          ]
        }
      ]
    },
    {
      "cell_type": "code",
      "source": [
        "# retrieve all the rows where the total_votes count is equal to or greater than 20\n",
        "sample_df = df.filter('total_votes>20')\n",
        "sample_df.show()"
      ],
      "metadata": {
        "colab": {
          "base_uri": "https://localhost:8080/"
        },
        "id": "3O4iK3E1Asbz",
        "outputId": "a93716bf-2593-4dcf-d196-d19aa045741a"
      },
      "execution_count": 7,
      "outputs": [
        {
          "output_type": "stream",
          "name": "stdout",
          "text": [
            "+-----------+-----------+--------------+----------+--------------+--------------------+----------------+-----------+-------------+-----------+----+-----------------+--------------------+--------------------+-------------------+\n",
            "|marketplace|customer_id|     review_id|product_id|product_parent|       product_title|product_category|star_rating|helpful_votes|total_votes|vine|verified_purchase|     review_headline|         review_body|        review_date|\n",
            "+-----------+-----------+--------------+----------+--------------+--------------------+----------------+-----------+-------------+-----------+----+-----------------+--------------------+--------------------+-------------------+\n",
            "|         US|    3200070|R3FJ319XA6ZAUQ|B00ZI7IH1E|     450586100|Funlux? 8CH Full ...|          Camera|          2|           21|         25|   N|                Y|            Mediocre|The product is gr...|2015-08-31 00:00:00|\n",
            "|         US|   40768960| R6HRF25HUMIIE|B00TAG8F52|     482310914|LimoStudio Digita...|          Camera|          5|           24|         24|   N|                Y|Very clever desig...|This greatly exce...|2015-08-31 00:00:00|\n",
            "|         US|   14620502|R2CTAK3APOFKZU|B011HRZMDE|     970722920|     Korner Extender|          Camera|          5|           37|         38|   N|                N|Korner is unequal...|I've been looking...|2015-08-31 00:00:00|\n",
            "|         US|   50922190|R1WQZB0CAEPQBU|B010G3THMW|     829519307|Panasonic KX-HN60...|          Camera|          2|           85|        128|   N|                N|Camera Resolution...|According to bhph...|2015-08-31 00:00:00|\n",
            "|         US|   20534171| RHZDSA48HVRVK|B010G3THMW|     829519307|Panasonic KX-HN60...|          Camera|          5|           49|         86|   N|                N|For the \"Uninitia...|They ARE &#34;Wir...|2015-08-31 00:00:00|\n",
            "|         US|   30739283|R190J2PDOZ5GVK|B00ZDWGFR2|     390090468|Sony a7R II Full-...|          Camera|          3|           36|         51|   N|                Y|Great camera, but...|Great camera, but...|2015-08-31 00:00:00|\n",
            "|         US|    8196048|R1WZSWWOTN58OP|B00VDO27Z8|     897822013|MCOCEAN Accessori...|          Camera|          5|           73|         77|   N|                Y|        What a deal!|Great deal for a ...|2015-08-31 00:00:00|\n",
            "|         US|   27970039|R3EM8C9CKA6GPK|B010G3THMW|     829519307|Panasonic KX-HN60...|          Camera|          2|           41|        115|   N|                N|Not Wireless, you...|The cameras are n...|2015-08-31 00:00:00|\n",
            "|         US|   10147523|R29THVJFO35FZA|B00U6VUXOQ|     508468169|Fujifilm Instax G...|          Camera|          5|           48|         50|   N|                Y|        I love this!|I love this!! I w...|2015-08-31 00:00:00|\n",
            "|         US|   10147523|R3V8FKXIHBLWEL|B009ZM9R4O|     840491020|       Instax Parent|          Camera|          5|           91|        108|   N|                Y|  I love this camera|I love this camer...|2015-08-31 00:00:00|\n",
            "|         US|   13509623|R3JIIPQ8F0P7QS|B00LVQ7KQO|      69957440|Foscam Plug and P...|          Camera|          4|           22|         23|   N|                Y|You must be a tot...|These are technic...|2015-08-31 00:00:00|\n",
            "|         US|   49523782|R3T9SAE2GZ2CN8|B0116Q3S0U|     519093546|XVIM 8 Channel H....|          Camera|          5|           24|         28|   N|                Y|(live video test ...|[[VIDEOID:caf452f...|2015-08-31 00:00:00|\n",
            "|         US|   49228093|R2O9VZEU64LFXH|B00XUP5M6Y|     167429803|GoPro Camera HERO...|          Camera|          4|          115|        136|   N|                Y|Great picture qua...|I bought two of t...|2015-08-31 00:00:00|\n",
            "|         US|   15788484|R3NET50AD1HMUD|B00Y0LXDZE|     309286212|   NC-335PW HD 1080P|          Camera|          3|           27|         32|   N|                Y|Great hardware, a...|The hardware is g...|2015-08-31 00:00:00|\n",
            "|         US|   38187888| R79ZW8DU56QV6|B009NIX3ZY|     975562623|SOLOSHOT Automati...|          Camera|          1|           43|         47|   N|                N|good luck, no sup...|I was one of the ...|2015-08-31 00:00:00|\n",
            "|         US|   34583489| RQN1N103PBM22|B00UJFHTO6|     858869116|Hikvision DS-2CD3...|          Camera|          1|           61|         69|   N|                Y|Firmware upgrade ...|Added 2/15/2016 b...|2015-08-31 00:00:00|\n",
            "|         US|   35232985|R28VHGS18B0YXC|B00H36U69Y|     275946752|PANASONIC LUMIX G...|          Camera|          5|           35|         42|   N|                N|Fantastic Portrai...|I was really exci...|2015-08-31 00:00:00|\n",
            "|         US|   10861723|R3BWM499VCMGS7|B00ZDWGFR2|     390090468|Sony a7R II Full-...|          Camera|          5|           48|         52|   N|                Y|Absolutly Must ha...|Im a Canon guy, b...|2015-08-31 00:00:00|\n",
            "|         US|   36889149|R36SDHRTJ9VEM8|B00XREHENC|     367812168|Panasonic LUMIX D...|          Camera|          5|           32|         34|   N|                N|The best Camera i...|I picked up my CM...|2015-08-31 00:00:00|\n",
            "|         US|   10138891|R2ILOJ2MACX1GM|B010G3THMW|     829519307|Panasonic KX-HN60...|          Camera|          5|           37|         63|   N|                N|Home monitoring d...|Completely disagr...|2015-08-31 00:00:00|\n",
            "+-----------+-----------+--------------+----------+--------------+--------------------+----------------+-----------+-------------+-----------+----+-----------------+--------------------+--------------------+-------------------+\n",
            "only showing top 20 rows\n",
            "\n"
          ]
        }
      ]
    },
    {
      "cell_type": "code",
      "source": [
        "# Get row count priot to creating newSample_df\n",
        "rows = sample_df.count()\n",
        "print(rows)"
      ],
      "metadata": {
        "colab": {
          "base_uri": "https://localhost:8080/"
        },
        "id": "nHMdLQLzKDYs",
        "outputId": "c319eb63-e8f7-40c4-9e61-9e6730c33362"
      },
      "execution_count": 14,
      "outputs": [
        {
          "output_type": "stream",
          "name": "stdout",
          "text": [
            "55966\n"
          ]
        }
      ]
    },
    {
      "cell_type": "code",
      "source": [
        "newSample_df = sample_df.filter(sample_df[\"helpful_votes\"]/sample_df[\"total_votes\"] >= 0.5)\n",
        "newSample_df.show()"
      ],
      "metadata": {
        "colab": {
          "base_uri": "https://localhost:8080/"
        },
        "id": "A4HFefQLHEJ7",
        "outputId": "96ad183d-b7c6-4b47-b553-12d5f900d910"
      },
      "execution_count": 8,
      "outputs": [
        {
          "output_type": "stream",
          "name": "stdout",
          "text": [
            "+-----------+-----------+--------------+----------+--------------+--------------------+----------------+-----------+-------------+-----------+----+-----------------+--------------------+--------------------+-------------------+\n",
            "|marketplace|customer_id|     review_id|product_id|product_parent|       product_title|product_category|star_rating|helpful_votes|total_votes|vine|verified_purchase|     review_headline|         review_body|        review_date|\n",
            "+-----------+-----------+--------------+----------+--------------+--------------------+----------------+-----------+-------------+-----------+----+-----------------+--------------------+--------------------+-------------------+\n",
            "|         US|    3200070|R3FJ319XA6ZAUQ|B00ZI7IH1E|     450586100|Funlux? 8CH Full ...|          Camera|          2|           21|         25|   N|                Y|            Mediocre|The product is gr...|2015-08-31 00:00:00|\n",
            "|         US|   40768960| R6HRF25HUMIIE|B00TAG8F52|     482310914|LimoStudio Digita...|          Camera|          5|           24|         24|   N|                Y|Very clever desig...|This greatly exce...|2015-08-31 00:00:00|\n",
            "|         US|   14620502|R2CTAK3APOFKZU|B011HRZMDE|     970722920|     Korner Extender|          Camera|          5|           37|         38|   N|                N|Korner is unequal...|I've been looking...|2015-08-31 00:00:00|\n",
            "|         US|   50922190|R1WQZB0CAEPQBU|B010G3THMW|     829519307|Panasonic KX-HN60...|          Camera|          2|           85|        128|   N|                N|Camera Resolution...|According to bhph...|2015-08-31 00:00:00|\n",
            "|         US|   20534171| RHZDSA48HVRVK|B010G3THMW|     829519307|Panasonic KX-HN60...|          Camera|          5|           49|         86|   N|                N|For the \"Uninitia...|They ARE &#34;Wir...|2015-08-31 00:00:00|\n",
            "|         US|   30739283|R190J2PDOZ5GVK|B00ZDWGFR2|     390090468|Sony a7R II Full-...|          Camera|          3|           36|         51|   N|                Y|Great camera, but...|Great camera, but...|2015-08-31 00:00:00|\n",
            "|         US|    8196048|R1WZSWWOTN58OP|B00VDO27Z8|     897822013|MCOCEAN Accessori...|          Camera|          5|           73|         77|   N|                Y|        What a deal!|Great deal for a ...|2015-08-31 00:00:00|\n",
            "|         US|   10147523|R29THVJFO35FZA|B00U6VUXOQ|     508468169|Fujifilm Instax G...|          Camera|          5|           48|         50|   N|                Y|        I love this!|I love this!! I w...|2015-08-31 00:00:00|\n",
            "|         US|   10147523|R3V8FKXIHBLWEL|B009ZM9R4O|     840491020|       Instax Parent|          Camera|          5|           91|        108|   N|                Y|  I love this camera|I love this camer...|2015-08-31 00:00:00|\n",
            "|         US|   13509623|R3JIIPQ8F0P7QS|B00LVQ7KQO|      69957440|Foscam Plug and P...|          Camera|          4|           22|         23|   N|                Y|You must be a tot...|These are technic...|2015-08-31 00:00:00|\n",
            "|         US|   49523782|R3T9SAE2GZ2CN8|B0116Q3S0U|     519093546|XVIM 8 Channel H....|          Camera|          5|           24|         28|   N|                Y|(live video test ...|[[VIDEOID:caf452f...|2015-08-31 00:00:00|\n",
            "|         US|   49228093|R2O9VZEU64LFXH|B00XUP5M6Y|     167429803|GoPro Camera HERO...|          Camera|          4|          115|        136|   N|                Y|Great picture qua...|I bought two of t...|2015-08-31 00:00:00|\n",
            "|         US|   15788484|R3NET50AD1HMUD|B00Y0LXDZE|     309286212|   NC-335PW HD 1080P|          Camera|          3|           27|         32|   N|                Y|Great hardware, a...|The hardware is g...|2015-08-31 00:00:00|\n",
            "|         US|   38187888| R79ZW8DU56QV6|B009NIX3ZY|     975562623|SOLOSHOT Automati...|          Camera|          1|           43|         47|   N|                N|good luck, no sup...|I was one of the ...|2015-08-31 00:00:00|\n",
            "|         US|   34583489| RQN1N103PBM22|B00UJFHTO6|     858869116|Hikvision DS-2CD3...|          Camera|          1|           61|         69|   N|                Y|Firmware upgrade ...|Added 2/15/2016 b...|2015-08-31 00:00:00|\n",
            "|         US|   35232985|R28VHGS18B0YXC|B00H36U69Y|     275946752|PANASONIC LUMIX G...|          Camera|          5|           35|         42|   N|                N|Fantastic Portrai...|I was really exci...|2015-08-31 00:00:00|\n",
            "|         US|   10861723|R3BWM499VCMGS7|B00ZDWGFR2|     390090468|Sony a7R II Full-...|          Camera|          5|           48|         52|   N|                Y|Absolutly Must ha...|Im a Canon guy, b...|2015-08-31 00:00:00|\n",
            "|         US|   36889149|R36SDHRTJ9VEM8|B00XREHENC|     367812168|Panasonic LUMIX D...|          Camera|          5|           32|         34|   N|                N|The best Camera i...|I picked up my CM...|2015-08-31 00:00:00|\n",
            "|         US|   10138891|R2ILOJ2MACX1GM|B010G3THMW|     829519307|Panasonic KX-HN60...|          Camera|          5|           37|         63|   N|                N|Home monitoring d...|Completely disagr...|2015-08-31 00:00:00|\n",
            "|         US|   49523782|R2C9SAXAPMNSAI|B0116Q3O68|     190697751|Xvim Weatherproof...|          Camera|          5|           44|         47|   N|                N|(live video test ...|[[VIDEOID:c42f14b...|2015-08-31 00:00:00|\n",
            "+-----------+-----------+--------------+----------+--------------+--------------------+----------------+-----------+-------------+-----------+----+-----------------+--------------------+--------------------+-------------------+\n",
            "only showing top 20 rows\n",
            "\n"
          ]
        }
      ]
    },
    {
      "cell_type": "code",
      "source": [
        "# Get row count priot to creating newSample_df\n",
        "rows = newSample_df.count()\n",
        "print(rows)"
      ],
      "metadata": {
        "colab": {
          "base_uri": "https://localhost:8080/"
        },
        "id": "zGKeVWCiMV6e",
        "outputId": "e3306c36-55d8-4966-b7a6-75f9a49a4867"
      },
      "execution_count": 15,
      "outputs": [
        {
          "output_type": "stream",
          "name": "stdout",
          "text": [
            "48283\n"
          ]
        }
      ]
    },
    {
      "cell_type": "code",
      "source": [
        "# Filter all results where vine == \"Y\"\n",
        "vine_yes_df = newSample_df.filter(newSample_df.vine=='Y').show()"
      ],
      "metadata": {
        "colab": {
          "base_uri": "https://localhost:8080/"
        },
        "id": "5slWhZ7LMtqn",
        "outputId": "5dc4d795-36e4-4fb3-d470-c69472809017"
      },
      "execution_count": 30,
      "outputs": [
        {
          "output_type": "stream",
          "name": "stdout",
          "text": [
            "+-----------+-----------+--------------+----------+--------------+--------------------+----------------+-----------+-------------+-----------+----+-----------------+--------------------+--------------------+-------------------+\n",
            "|marketplace|customer_id|     review_id|product_id|product_parent|       product_title|product_category|star_rating|helpful_votes|total_votes|vine|verified_purchase|     review_headline|         review_body|        review_date|\n",
            "+-----------+-----------+--------------+----------+--------------+--------------------+----------------+-----------+-------------+-----------+----+-----------------+--------------------+--------------------+-------------------+\n",
            "|         US|   38607681|R37L6YZDX0P3J9|B00SEKXJ6U|     408705341|Guardzilla  All-I...|          Camera|          1|           28|         35|   Y|                N|Gave up after an ...|I have installed ...|2015-08-29 00:00:00|\n",
            "|         US|   52532594|R2JT4XRQO2KASL|B00SEKXJ6U|     408705341|Guardzilla  All-I...|          Camera|          5|           38|         41|   Y|                N|We love the guard...|UPDATE 9/5/15 The...|2015-08-28 00:00:00|\n",
            "|         US|   52851692|R10XRAOBFFSTL2|B00R5LHB0Y|      91023397|Sony HD Video Rec...|          Camera|          5|           44|         47|   Y|                N|great video camer...|Very impressed wi...|2015-08-13 00:00:00|\n",
            "|         US|   52685392| R1X8F3R1K1SF5|B0123CQQXM|     357389917|Motorola FOCUS73-...|          Camera|          2|           30|         31|   Y|                N|No audio, mediocr...|The Motorola FOCU...|2015-08-12 00:00:00|\n",
            "|         US|   43362091|R326QV66CKBB43|B00ZDWGM34|     421352815|      RX100M4 Parent|          Camera|          4|          127|        139|   Y|                N|Amazing camera wi...|I'm sure if you'r...|2015-07-30 00:00:00|\n",
            "|         US|   35575415| RGXLFTR31J561|B00ZDWGM34|     421352815|      RX100M4 Parent|          Camera|          5|           29|         34|   Y|                N|4K Video, Excelle...|I am a semi-pro p...|2015-07-22 00:00:00|\n",
            "|         US|   51968312|R2ZS3WCJYUDQH0|B00TGOWK3Q|     242005251|Fujifilm Instax W...|          Camera|          3|          101|        115|   Y|                N|Old-school nostal...|While I admit tha...|2015-07-19 00:00:00|\n",
            "|         US|   42689422|R31771VBPRDVJS|B00TGOWK3Q|     242005251|Fujifilm Instax W...|          Camera|          4|           75|         83|   Y|                N|Great camera! Eve...|I got this for my...|2015-07-09 00:00:00|\n",
            "|         US|   44776805| R8O8KM73GO190|B00TGOWK3Q|     242005251|Fujifilm Instax W...|          Camera|          5|           21|         28|   Y|                N|          Fun Camera|This is a fun cam...|2015-07-04 00:00:00|\n",
            "|         US|   42644737| RPU1GURA1NOT0|B00VWJOK7M|     474422324|         HX90 Parent|          Camera|          5|           33|         35|   Y|                N|A Different Persp...|My review of the ...|2015-06-29 00:00:00|\n",
            "|         US|   39923337|R1LSBTTOR7MC2T|B00VWJOK7M|     474422324|         HX90 Parent|          Camera|          5|          364|        373|   Y|                N|Amazing features ...|I am a camera jun...|2015-06-25 00:00:00|\n",
            "|         US|   47098142|R3M6G50741A8BZ|B00PMMB4X8|     924700931|AmazonBasics GoPr...|          Camera|          5|           24|         30|   Y|                N|Makes day trips s...|As an organizer a...|2015-06-13 00:00:00|\n",
            "|         US|   50900986|R23USDQ7OW3CWH|B00R5LH9G0|     142491613|    AX33 Parent ASIN|          Camera|          5|           58|         65|   Y|                N|Shoot XAVC S HD  ...|The Sony FDR-AX33...|2015-05-22 00:00:00|\n",
            "|         US|   51865210|R21XG60MOE370I|B00RBG68N4|     887266661|Lumix WiFi Enable...|          Camera|          5|           95|        105|   Y|                N|Incredible Featur...|I have been a hea...|2015-05-11 00:00:00|\n",
            "|         US|   52215985|R38IT6Q7UDG0AC|B00RBG61G8|     887266661|Lumix WiFi Enable...|          Camera|          5|           52|         65|   Y|                N|You won't regret it!|I love the camera...|2015-05-07 00:00:00|\n",
            "|         US|   50523018|R1ZNRVVBZEZPMT|B00PJ1XXA4|     473266927|Panasonic KX-HN60...|          Camera|          2|           64|         74|   Y|                N|Easy setup, poor ...|Let me just jump ...|2015-04-27 00:00:00|\n",
            "|         US|   52807614|R2UJ5PT023G3XU|B00RBG60U0|      86014395|Lumix Active Life...|          Camera|          4|           29|         38|   Y|                N|Four stars for va...|*** UPDATE 6/11/1...|2015-04-24 00:00:00|\n",
            "|         US|   22496686|R2ZUSNUDLAG4HR|B00RBG687A|     531727433|Panasonic Lumix Z...|          Camera|          5|           20|         23|   Y|                N| A Winning New Lumix|Lumix ZS50 Digita...|2015-04-21 00:00:00|\n",
            "|         US|   37876368| RYCSFTDYMJCXV|B00RBG68Q6|     260742274|           Lumix 20x|          Camera|          2|           52|         60|   Y|                N|Very disappointin...|I was really disa...|2015-04-20 00:00:00|\n",
            "|         US|   50900986|R2NKND0YUD25RE|B00RBG687A|     531727433|Panasonic Lumix Z...|          Camera|          5|           39|         41|   Y|                N|About Viewfinder,...|ELECTRONIC VIEWFI...|2015-04-18 00:00:00|\n",
            "+-----------+-----------+--------------+----------+--------------+--------------------+----------------+-----------+-------------+-----------+----+-----------------+--------------------+--------------------+-------------------+\n",
            "only showing top 20 rows\n",
            "\n"
          ]
        }
      ]
    },
    {
      "cell_type": "code",
      "source": [
        "# Filter all results where vine == \"N\"\n",
        "vine_no_df = newSample_df.filter(newSample_df.vine=='N').show()"
      ],
      "metadata": {
        "colab": {
          "base_uri": "https://localhost:8080/"
        },
        "id": "AM05tL6WM0ti",
        "outputId": "f99af35d-9067-48fd-ba2d-65e144c23bb6"
      },
      "execution_count": 29,
      "outputs": [
        {
          "output_type": "stream",
          "name": "stdout",
          "text": [
            "+-----------+-----------+--------------+----------+--------------+--------------------+----------------+-----------+-------------+-----------+----+-----------------+--------------------+--------------------+-------------------+\n",
            "|marketplace|customer_id|     review_id|product_id|product_parent|       product_title|product_category|star_rating|helpful_votes|total_votes|vine|verified_purchase|     review_headline|         review_body|        review_date|\n",
            "+-----------+-----------+--------------+----------+--------------+--------------------+----------------+-----------+-------------+-----------+----+-----------------+--------------------+--------------------+-------------------+\n",
            "|         US|    3200070|R3FJ319XA6ZAUQ|B00ZI7IH1E|     450586100|Funlux? 8CH Full ...|          Camera|          2|           21|         25|   N|                Y|            Mediocre|The product is gr...|2015-08-31 00:00:00|\n",
            "|         US|   40768960| R6HRF25HUMIIE|B00TAG8F52|     482310914|LimoStudio Digita...|          Camera|          5|           24|         24|   N|                Y|Very clever desig...|This greatly exce...|2015-08-31 00:00:00|\n",
            "|         US|   14620502|R2CTAK3APOFKZU|B011HRZMDE|     970722920|     Korner Extender|          Camera|          5|           37|         38|   N|                N|Korner is unequal...|I've been looking...|2015-08-31 00:00:00|\n",
            "|         US|   50922190|R1WQZB0CAEPQBU|B010G3THMW|     829519307|Panasonic KX-HN60...|          Camera|          2|           85|        128|   N|                N|Camera Resolution...|According to bhph...|2015-08-31 00:00:00|\n",
            "|         US|   20534171| RHZDSA48HVRVK|B010G3THMW|     829519307|Panasonic KX-HN60...|          Camera|          5|           49|         86|   N|                N|For the \"Uninitia...|They ARE &#34;Wir...|2015-08-31 00:00:00|\n",
            "|         US|   30739283|R190J2PDOZ5GVK|B00ZDWGFR2|     390090468|Sony a7R II Full-...|          Camera|          3|           36|         51|   N|                Y|Great camera, but...|Great camera, but...|2015-08-31 00:00:00|\n",
            "|         US|    8196048|R1WZSWWOTN58OP|B00VDO27Z8|     897822013|MCOCEAN Accessori...|          Camera|          5|           73|         77|   N|                Y|        What a deal!|Great deal for a ...|2015-08-31 00:00:00|\n",
            "|         US|   10147523|R29THVJFO35FZA|B00U6VUXOQ|     508468169|Fujifilm Instax G...|          Camera|          5|           48|         50|   N|                Y|        I love this!|I love this!! I w...|2015-08-31 00:00:00|\n",
            "|         US|   10147523|R3V8FKXIHBLWEL|B009ZM9R4O|     840491020|       Instax Parent|          Camera|          5|           91|        108|   N|                Y|  I love this camera|I love this camer...|2015-08-31 00:00:00|\n",
            "|         US|   13509623|R3JIIPQ8F0P7QS|B00LVQ7KQO|      69957440|Foscam Plug and P...|          Camera|          4|           22|         23|   N|                Y|You must be a tot...|These are technic...|2015-08-31 00:00:00|\n",
            "|         US|   49523782|R3T9SAE2GZ2CN8|B0116Q3S0U|     519093546|XVIM 8 Channel H....|          Camera|          5|           24|         28|   N|                Y|(live video test ...|[[VIDEOID:caf452f...|2015-08-31 00:00:00|\n",
            "|         US|   49228093|R2O9VZEU64LFXH|B00XUP5M6Y|     167429803|GoPro Camera HERO...|          Camera|          4|          115|        136|   N|                Y|Great picture qua...|I bought two of t...|2015-08-31 00:00:00|\n",
            "|         US|   15788484|R3NET50AD1HMUD|B00Y0LXDZE|     309286212|   NC-335PW HD 1080P|          Camera|          3|           27|         32|   N|                Y|Great hardware, a...|The hardware is g...|2015-08-31 00:00:00|\n",
            "|         US|   38187888| R79ZW8DU56QV6|B009NIX3ZY|     975562623|SOLOSHOT Automati...|          Camera|          1|           43|         47|   N|                N|good luck, no sup...|I was one of the ...|2015-08-31 00:00:00|\n",
            "|         US|   34583489| RQN1N103PBM22|B00UJFHTO6|     858869116|Hikvision DS-2CD3...|          Camera|          1|           61|         69|   N|                Y|Firmware upgrade ...|Added 2/15/2016 b...|2015-08-31 00:00:00|\n",
            "|         US|   35232985|R28VHGS18B0YXC|B00H36U69Y|     275946752|PANASONIC LUMIX G...|          Camera|          5|           35|         42|   N|                N|Fantastic Portrai...|I was really exci...|2015-08-31 00:00:00|\n",
            "|         US|   10861723|R3BWM499VCMGS7|B00ZDWGFR2|     390090468|Sony a7R II Full-...|          Camera|          5|           48|         52|   N|                Y|Absolutly Must ha...|Im a Canon guy, b...|2015-08-31 00:00:00|\n",
            "|         US|   36889149|R36SDHRTJ9VEM8|B00XREHENC|     367812168|Panasonic LUMIX D...|          Camera|          5|           32|         34|   N|                N|The best Camera i...|I picked up my CM...|2015-08-31 00:00:00|\n",
            "|         US|   10138891|R2ILOJ2MACX1GM|B010G3THMW|     829519307|Panasonic KX-HN60...|          Camera|          5|           37|         63|   N|                N|Home monitoring d...|Completely disagr...|2015-08-31 00:00:00|\n",
            "|         US|   49523782|R2C9SAXAPMNSAI|B0116Q3O68|     190697751|Xvim Weatherproof...|          Camera|          5|           44|         47|   N|                N|(live video test ...|[[VIDEOID:c42f14b...|2015-08-31 00:00:00|\n",
            "+-----------+-----------+--------------+----------+--------------+--------------------+----------------+-----------+-------------+-----------+----+-----------------+--------------------+--------------------+-------------------+\n",
            "only showing top 20 rows\n",
            "\n"
          ]
        }
      ]
    },
    {
      "cell_type": "code",
      "source": [
        "# functions.count()\n",
        "from pyspark.sql.functions import count\n",
        "vine_yes_df.select(count(vine_yes_df.star_rating)).show()\n"
      ],
      "metadata": {
        "colab": {
          "base_uri": "https://localhost:8080/",
          "height": 200
        },
        "id": "HPLG8B3sNM-h",
        "outputId": "01f1d4ea-7266-4e2b-f38d-428705555272"
      },
      "execution_count": 35,
      "outputs": [
        {
          "output_type": "error",
          "ename": "AttributeError",
          "evalue": "ignored",
          "traceback": [
            "\u001b[0;31m---------------------------------------------------------------------------\u001b[0m",
            "\u001b[0;31mAttributeError\u001b[0m                            Traceback (most recent call last)",
            "\u001b[0;32m<ipython-input-35-b53fb6710642>\u001b[0m in \u001b[0;36m<cell line: 3>\u001b[0;34m()\u001b[0m\n\u001b[1;32m      1\u001b[0m \u001b[0;31m# functions.count()\u001b[0m\u001b[0;34m\u001b[0m\u001b[0;34m\u001b[0m\u001b[0m\n\u001b[1;32m      2\u001b[0m \u001b[0;32mfrom\u001b[0m \u001b[0mpyspark\u001b[0m\u001b[0;34m.\u001b[0m\u001b[0msql\u001b[0m\u001b[0;34m.\u001b[0m\u001b[0mfunctions\u001b[0m \u001b[0;32mimport\u001b[0m \u001b[0mcount\u001b[0m\u001b[0;34m\u001b[0m\u001b[0;34m\u001b[0m\u001b[0m\n\u001b[0;32m----> 3\u001b[0;31m \u001b[0mvine_yes_df\u001b[0m\u001b[0;34m.\u001b[0m\u001b[0mselect\u001b[0m\u001b[0;34m(\u001b[0m\u001b[0mcount\u001b[0m\u001b[0;34m(\u001b[0m\u001b[0mvine_yes_df\u001b[0m\u001b[0;34m.\u001b[0m\u001b[0mstar_rating\u001b[0m\u001b[0;34m)\u001b[0m\u001b[0;34m)\u001b[0m\u001b[0;34m.\u001b[0m\u001b[0mshow\u001b[0m\u001b[0;34m(\u001b[0m\u001b[0;34m)\u001b[0m\u001b[0;34m\u001b[0m\u001b[0;34m\u001b[0m\u001b[0m\n\u001b[0m",
            "\u001b[0;31mAttributeError\u001b[0m: 'NoneType' object has no attribute 'select'"
          ]
        }
      ]
    },
    {
      "cell_type": "code",
      "source": [
        "# functions.count()\n",
        "from pyspark.sql.functions import count\n",
        "newSample_df.select(count(newSample_df.star_rating)).show()"
      ],
      "metadata": {
        "colab": {
          "base_uri": "https://localhost:8080/"
        },
        "id": "tVkwA1NpRIWK",
        "outputId": "b8355eed-8029-4fea-c97b-283862bf15cb"
      },
      "execution_count": 37,
      "outputs": [
        {
          "output_type": "stream",
          "name": "stdout",
          "text": [
            "+------------------+\n",
            "|count(star_rating)|\n",
            "+------------------+\n",
            "|             48283|\n",
            "+------------------+\n",
            "\n"
          ]
        }
      ]
    },
    {
      "cell_type": "code",
      "source": [
        "vine_yes_df.show()"
      ],
      "metadata": {
        "colab": {
          "base_uri": "https://localhost:8080/",
          "height": 166
        },
        "id": "miTPgz3zPP_7",
        "outputId": "3f40f0d5-a151-48aa-b1e7-80f948ef35e6"
      },
      "execution_count": 38,
      "outputs": [
        {
          "output_type": "error",
          "ename": "AttributeError",
          "evalue": "ignored",
          "traceback": [
            "\u001b[0;31m---------------------------------------------------------------------------\u001b[0m",
            "\u001b[0;31mAttributeError\u001b[0m                            Traceback (most recent call last)",
            "\u001b[0;32m<ipython-input-38-41a5c2a90c94>\u001b[0m in \u001b[0;36m<cell line: 1>\u001b[0;34m()\u001b[0m\n\u001b[0;32m----> 1\u001b[0;31m \u001b[0mvine_no_df\u001b[0m\u001b[0;34m.\u001b[0m\u001b[0mshow\u001b[0m\u001b[0;34m(\u001b[0m\u001b[0;34m)\u001b[0m\u001b[0;34m\u001b[0m\u001b[0;34m\u001b[0m\u001b[0m\n\u001b[0m",
            "\u001b[0;31mAttributeError\u001b[0m: 'NoneType' object has no attribute 'show'"
          ]
        }
      ]
    }
  ]
}